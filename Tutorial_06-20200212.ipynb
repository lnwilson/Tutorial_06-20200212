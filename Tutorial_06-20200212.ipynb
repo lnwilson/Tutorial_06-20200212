{
 "cells": [
  {
   "cell_type": "markdown",
   "metadata": {
    "editable": false
   },
   "source": [
    "# Tutorial 6: Binomial Random Variables #\n"
   ]
  },
  {
   "cell_type": "markdown",
   "metadata": {
    "editable": false
   },
   "source": [
    "## Objectives: ##\n",
    "* To become familiar with the R commands used to display a binomial random variable\n",
    "* To become familiar with the R commands used to calculate probabilities using a binomial random variable"
   ]
  },
  {
   "cell_type": "markdown",
   "metadata": {
    "editable": false
   },
   "source": [
    "## Instructions: ##\n",
    "* You must carefully read the instructions in each question to learn how to use the indicated command, if any,  in order to answer the question.\n",
    "* Do NOT round any of the values.\n",
    "* After calculating a probability, in the markdown block, indicate what you have found using approriate probability format <br> Examples of proper format: \n",
    "  * P(X = 4) = 0.52687495122\n",
    "  * P(Y <= 3) = 0.25447898\n",
    "  * P(X > 8) = 0.999587411563"
   ]
  },
  {
   "cell_type": "markdown",
   "metadata": {
    "editable": false
   },
   "source": [
    "## Formulae: ##\n",
    "If $X$ is a binomial random variable for a binomial experiment consisting of $n$ trials where the probability of 'success' on each trial is $p$,<br>then we write $X \\sim B(n,p)$. This notation is called the binomial short form.<br>Hence, if $X$ is a binomial random variable with $n=5$ and $p=0.25$ we would write $X \\sim B(5,0.25)$.\n",
    "\n",
    "* The mean of the binomial random variable, $X$, is denoted $\\mu_X$, and $\\mu_X = np$.\n",
    "* The standard deviation of a binomial random variable, $X$, is denoted $\\sigma_X$, and $\\sigma_X = \\sqrt{np(1-p)}$"
   ]
  },
  {
   "cell_type": "markdown",
   "metadata": {
    "editable": false
   },
   "source": [
    "## Tools: ##"
   ]
  },
  {
   "cell_type": "markdown",
   "metadata": {
    "editable": false
   },
   "source": [
    "No tools are required for this tutorial."
   ]
  },
  {
   "cell_type": "markdown",
   "metadata": {
    "editable": false
   },
   "source": [
    "## Data Information: ##\n",
    "\n",
    "Some of the questions use data collected by Statistics Canada.<br>\n",
    "You can find a bulletin about these data at: http://sectorsource.ca/sites/default/files/resources/ic-research/research_note_csgvp_tables_en_2012.pdf"
   ]
  },
  {
   "cell_type": "markdown",
   "metadata": {
    "editable": false
   },
   "source": [
    "## Question 1. Binomial random variable ##"
   ]
  },
  {
   "cell_type": "markdown",
   "metadata": {
    "editable": false
   },
   "source": [
    "Suppose Mauntiliese, a Canadian Zamboni driver, decides as her act of random kindness in 2020 she will \"pour ahead\" at Tim Horton's one day a week, that is she will pay for the order of the next person in the drive thru line. <br> In an effort to not be predictable, she decides to roll a day-of-the-week die to determine, randomly, which day of the week she will \"pour ahead\" for each of the 52 weeks of 2020. <br>We are interested in how often she will be pouring ahead on a weekday. \n",
    "* a. The die Mauntiliese uses has 14 sides and each day of the week is written on two of the sides. What is the probability that this die rolls a weekday?\n",
    "* b. Let $X$ represent the number of times a weekday is rolled on the die. Describe random variable $X$ using the binomial short form.\n",
    "* c. What is the mean of $X$?\n",
    "* d. What is the standard deviation of $X$?"
   ]
  },
  {
   "cell_type": "markdown",
   "metadata": {
    "editable": false
   },
   "source": [
    "### Answer 1a. ##"
   ]
  },
  {
   "cell_type": "code",
   "execution_count": null,
   "metadata": {},
   "outputs": [],
   "source": [
    "This is a code cell, you can use it as a calculator, enter R commands, or do both."
   ]
  },
  {
   "cell_type": "markdown",
   "metadata": {},
   "source": [
    "Enter the answer in the appropriate format, either a probability statement, binomial short form, or a sentence."
   ]
  },
  {
   "cell_type": "markdown",
   "metadata": {
    "editable": false
   },
   "source": [
    "### Answer 1b. ##"
   ]
  },
  {
   "cell_type": "markdown",
   "metadata": {},
   "source": [
    "Enter the answer in the appropriate format, either a probability statement, binomial short form, or a sentence."
   ]
  },
  {
   "cell_type": "markdown",
   "metadata": {
    "editable": false
   },
   "source": [
    "### Answer 1c. ##"
   ]
  },
  {
   "cell_type": "code",
   "execution_count": null,
   "metadata": {},
   "outputs": [],
   "source": [
    "This is a code cell, you can use it as a calculator, enter R commands, or do both."
   ]
  },
  {
   "cell_type": "markdown",
   "metadata": {},
   "source": [
    "Enter the answer in the appropriate format, either a probability statement, binomial short form, or a sentence."
   ]
  },
  {
   "cell_type": "markdown",
   "metadata": {
    "editable": false
   },
   "source": [
    "### Answer 1d. ##"
   ]
  },
  {
   "cell_type": "code",
   "execution_count": null,
   "metadata": {},
   "outputs": [],
   "source": [
    "This is a code cell, you can use it as a calculator, enter R commands, or do both."
   ]
  },
  {
   "cell_type": "markdown",
   "metadata": {},
   "source": [
    "Enter the answer in the appropriate format, either a probability statement, binomial short form, or a sentence."
   ]
  },
  {
   "cell_type": "markdown",
   "metadata": {
    "editable": false
   },
   "source": [
    "## Question 2. The Binomial Distribution ##"
   ]
  },
  {
   "cell_type": "markdown",
   "metadata": {
    "editable": false
   },
   "source": [
    "* The binomial distribution command `dbinom(`&lt;value&gt; `,` &lt;n&gt; `,` &lt;p&gt; `)` is used to determine P(X = value) for a binomial random variable. <br>\n",
    "* If you replace the &lt;value&gt; with a list of values entered `c(` &lt;lowVal&gt; `:` &lt;highVal&gt; `)` you will get a list or rough table of all the probabilities from P(X = lowVal) to P(X = high Val).\n",
    "* You can replace the table in the barplot command with `dbinom(c(` &lt;lowVal&gt; `:` &lt;highVal&gt; `),` &lt;n&gt; `,` &lt;p&gt; `)` to create a binomial bar chart.\n",
    "\n",
    "Using the binomial distribution from question 1 for the following questions.\n",
    "* a. What is the probability that Mauntiliese will pour ahead on exactly 42 weekdays?\n",
    "* b. What is the probability that Mauntiliese will pour ahead on exactly 15 weekend days?\n",
    "* c. What is the least number of weekdays Mautiliese could pour ahead? What is the greatest number of weekdays Mauntiliese could pour ahead?\n",
    "* d. Make a barchart for the probability distribution of $X$ as defined in question 1. Give the barchart a title and label the x-axis.\n",
    "* e. Describe the distribution of the data."
   ]
  },
  {
   "cell_type": "markdown",
   "metadata": {
    "editable": false
   },
   "source": [
    "### Answer 2a. ##"
   ]
  },
  {
   "cell_type": "code",
   "execution_count": null,
   "metadata": {},
   "outputs": [],
   "source": [
    "This is a code cell, you can use it as a calculator, enter R commands, or do both."
   ]
  },
  {
   "cell_type": "markdown",
   "metadata": {},
   "source": [
    "Enter the answer in the appropriate format, either a probability statement, binomial short form, or a sentence."
   ]
  },
  {
   "cell_type": "markdown",
   "metadata": {
    "editable": false
   },
   "source": [
    "### Answer 2b. ##"
   ]
  },
  {
   "cell_type": "code",
   "execution_count": null,
   "metadata": {},
   "outputs": [],
   "source": [
    "This is a code cell, you can use it as a calculator, enter R commands, or do both."
   ]
  },
  {
   "cell_type": "markdown",
   "metadata": {},
   "source": [
    "Enter the answer in the appropriate format, either a probability statement, binomial short form, or a sentence."
   ]
  },
  {
   "cell_type": "markdown",
   "metadata": {
    "editable": false
   },
   "source": [
    "### Answer 2c. ##"
   ]
  },
  {
   "cell_type": "markdown",
   "metadata": {},
   "source": [
    "Enter the answer in the appropriate format, either a probability statement, binomial short form, or a sentence."
   ]
  },
  {
   "cell_type": "markdown",
   "metadata": {
    "editable": false
   },
   "source": [
    "### Answer 2d. ##"
   ]
  },
  {
   "cell_type": "code",
   "execution_count": null,
   "metadata": {},
   "outputs": [],
   "source": [
    "This is a code cell, you can use it as a calculator, enter R commands, or do both."
   ]
  },
  {
   "cell_type": "markdown",
   "metadata": {
    "editable": false
   },
   "source": [
    "### Answer 2e. ##"
   ]
  },
  {
   "cell_type": "markdown",
   "metadata": {},
   "source": [
    "Enter the answer in the appropriate format, either a probability statement, binomial short form, or a sentence."
   ]
  },
  {
   "cell_type": "markdown",
   "metadata": {
    "editable": false
   },
   "source": [
    "## Question 3. More Binomial Probabilities ##"
   ]
  },
  {
   "cell_type": "markdown",
   "metadata": {
    "editable": false
   },
   "source": [
    "* The binomial probability command `pbinom(`&lt;value&gt; `,` &lt;n&gt; `,` &lt;p&gt; `)` is used to determine P(X &le; value) for a binomial random variable. <br>\n",
    "* Recall that for discrete data:\n",
    "  * P(X &lt; value) = P(X &le; value - 1)\n",
    "  * P(X &gt; value) = 1 - P(X &le; value)\n",
    "  * P(X &ge; value) = 1 - P(X &le; value - 1)\n",
    "  * P(lowVal &lt; X &lt; highVal) = P(X &le; highVal - 1) - P(X &le; lowVal)\n",
    "  * P(lowVal &le; X &le; highVal) = P(X &le; highVal) - P(X &le; lowVal - 1)\n",
    "\n",
    "\"In 2010, 84% of Canadians 15 and over donated to charitable and nonprofit organizations.\"$^1$<br> \n",
    "Suppose we randomly selected 125 people who were Canadians over the age of 15 in 2010 and let X represent the number of them that donated in 2010.\n",
    "* a. What is the binomal short format for X?\n",
    "* b. What is the probability that 110 or fewer of them donated in 2010?\n",
    "* c. What is the probability that no fewer than 95 of them donated in 2010?\n",
    "* d. What is the probability that the number of them that donated is at least 100 and at most 110?\n",
    "\n",
    "\n",
    "1. Lasby, David. <em>Research Note.</em> http://sectorsource.ca/sites/default/files/resources/ic-research/research_note_csgvp_tables_en_2012.pdf. March 2012."
   ]
  },
  {
   "cell_type": "markdown",
   "metadata": {
    "editable": false
   },
   "source": [
    "### Answer 3a. ##"
   ]
  },
  {
   "cell_type": "markdown",
   "metadata": {},
   "source": [
    "Enter the answer in the appropriate format, either a probability statement, binomial short form, or a sentence."
   ]
  },
  {
   "cell_type": "markdown",
   "metadata": {
    "editable": false
   },
   "source": [
    "### Answer3b. ##"
   ]
  },
  {
   "cell_type": "code",
   "execution_count": null,
   "metadata": {},
   "outputs": [],
   "source": [
    "This is a code cell, you can use it as a calculator, enter R commands, or do both."
   ]
  },
  {
   "cell_type": "markdown",
   "metadata": {},
   "source": [
    "Enter the answer in the appropriate format, either a probability statement, binomial short form, or a sentence."
   ]
  },
  {
   "cell_type": "markdown",
   "metadata": {
    "editable": false
   },
   "source": [
    "### Answer 3c. ##"
   ]
  },
  {
   "cell_type": "code",
   "execution_count": null,
   "metadata": {},
   "outputs": [],
   "source": [
    "This is a code cell, you can use it as a calculator, enter R commands, or do both."
   ]
  },
  {
   "cell_type": "markdown",
   "metadata": {},
   "source": [
    "Enter the answer in the appropriate format, either a probability statement, binomial short form, or a sentence."
   ]
  },
  {
   "cell_type": "markdown",
   "metadata": {
    "editable": false
   },
   "source": [
    "### Answer 3d. ##"
   ]
  },
  {
   "cell_type": "code",
   "execution_count": null,
   "metadata": {},
   "outputs": [],
   "source": [
    "This is a code cell, you can use it as a calculator, enter R commands, or do both."
   ]
  },
  {
   "cell_type": "markdown",
   "metadata": {},
   "source": [
    "Enter the answer in the appropriate format, either a probability statement, binomial short form, or a sentence."
   ]
  },
  {
   "cell_type": "markdown",
   "metadata": {
    "editable": false
   },
   "source": [
    "## Question 4. All Together Now ##"
   ]
  },
  {
   "cell_type": "markdown",
   "metadata": {
    "editable": false
   },
   "source": [
    "\"In 2010, 47% of Canadians aged 15 and over volunteered.\"$^2$<br> \n",
    "Suppose we randomly selected 50 people who were Canadians over the age of 15 in 2010 and let Y represent the number of them that volunteered in 2010.\n",
    "* a. What is the binomal short format for Y?\n",
    "* b. What are the mean and standard deviation of Y?\n",
    "* c. Make a barchart for the distribution of Y and describe its shape. The barchart must have a title and its x-axis must be labelled.\n",
    "* d. What is the probability that exactly 22 of these Canadians volunteered in 2010?\n",
    "* e. What is the probability that at least 22 of these Canadians volunteered in 2010?\n",
    "* f. What is the probability that fewer than 22 of these Canadians volunteered in 2010?\n",
    "\n",
    "\n",
    "2. Lasby, David. <em>Research Note.</em> http://sectorsource.ca/sites/default/files/resources/ic-research/research_note_csgvp_tables_en_2012.pdf. March 2012."
   ]
  },
  {
   "cell_type": "markdown",
   "metadata": {
    "editable": false
   },
   "source": [
    "### Answer 4a. ##"
   ]
  },
  {
   "cell_type": "markdown",
   "metadata": {},
   "source": [
    "Enter the answer in the appropriate format, either a probability statement, binomial short form, or a sentence."
   ]
  },
  {
   "cell_type": "markdown",
   "metadata": {
    "editable": false
   },
   "source": [
    "### Answer 4b. ##"
   ]
  },
  {
   "cell_type": "code",
   "execution_count": null,
   "metadata": {},
   "outputs": [],
   "source": [
    "This is a code cell, you can use it as a calculator, enter R commands, or do both."
   ]
  },
  {
   "cell_type": "markdown",
   "metadata": {},
   "source": [
    "Enter the answer in the appropriate format, either a probability statement, binomial short form, or a sentence."
   ]
  },
  {
   "cell_type": "markdown",
   "metadata": {
    "editable": false
   },
   "source": [
    "### Answer 4c. ##"
   ]
  },
  {
   "cell_type": "code",
   "execution_count": null,
   "metadata": {},
   "outputs": [],
   "source": [
    "This is a code cell, you can use it as a calculator, enter R commands, or do both."
   ]
  },
  {
   "cell_type": "markdown",
   "metadata": {},
   "source": [
    "Enter the answer in the appropriate format, either a probability statement, binomial short form, or a sentence."
   ]
  },
  {
   "cell_type": "markdown",
   "metadata": {
    "editable": false
   },
   "source": [
    "### Answer 4d. ##"
   ]
  },
  {
   "cell_type": "code",
   "execution_count": null,
   "metadata": {},
   "outputs": [],
   "source": [
    "This is a code cell, you can use it as a calculator, enter R commands, or do both."
   ]
  },
  {
   "cell_type": "markdown",
   "metadata": {},
   "source": [
    "Enter the answer in the appropriate format, either a probability statement, binomial short form, or a sentence."
   ]
  },
  {
   "cell_type": "markdown",
   "metadata": {
    "editable": false
   },
   "source": [
    "### Answer 4e. ##"
   ]
  },
  {
   "cell_type": "code",
   "execution_count": null,
   "metadata": {},
   "outputs": [],
   "source": [
    "This is a code cell, you can use it as a calculator, enter R commands, or do both."
   ]
  },
  {
   "cell_type": "markdown",
   "metadata": {},
   "source": [
    "Enter the answer in the appropriate format, either a probability statement, binomial short form, or a sentence."
   ]
  },
  {
   "cell_type": "markdown",
   "metadata": {
    "editable": false
   },
   "source": [
    "### Answer 4f. ##"
   ]
  },
  {
   "cell_type": "code",
   "execution_count": null,
   "metadata": {},
   "outputs": [],
   "source": [
    "This is a code cell, you can use it as a calculator, enter R commands, or do both."
   ]
  },
  {
   "cell_type": "markdown",
   "metadata": {},
   "source": [
    "Enter the answer in the appropriate format, either a probability statement, binomial short form, or a sentence."
   ]
  },
  {
   "cell_type": "markdown",
   "metadata": {
    "editable": false
   },
   "source": [
    "---\n",
    "---\n",
    "#### This tutorial is released under a Creative Commons Attribution-ShareAlike 3.0 Unported.\n",
    "\n",
    "This tutorial has been adapted from a lab that  was adapted for OpenIntro by Andrew Bray and Mine Çetinkaya-Rundel from a lab written by Mark Hansen of UCLA Statistics.\n",
    "\n",
    "---\n",
    "---"
   ]
  }
 ],
 "metadata": {
  "kernelspec": {
   "display_name": "R",
   "language": "R",
   "name": "ir"
  },
  "language_info": {
   "codemirror_mode": "r",
   "file_extension": ".r",
   "mimetype": "text/x-r-source",
   "name": "R",
   "pygments_lexer": "r",
   "version": "3.6.1"
  }
 },
 "nbformat": 4,
 "nbformat_minor": 2
}
